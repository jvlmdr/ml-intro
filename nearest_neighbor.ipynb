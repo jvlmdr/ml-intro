{
  "nbformat": 4,
  "nbformat_minor": 0,
  "metadata": {
    "colab": {
      "name": "nearest_neighbor.ipynb",
      "provenance": [],
      "collapsed_sections": [],
      "authorship_tag": "ABX9TyOyNjC6ohMm8HRWcv5o4piV"
    },
    "kernelspec": {
      "name": "python3",
      "display_name": "Python 3"
    },
    "language_info": {
      "name": "python"
    }
  },
  "cells": [
    {
      "cell_type": "code",
      "execution_count": null,
      "metadata": {
        "id": "cjorkjh1vHBQ"
      },
      "outputs": [],
      "source": [
        "import torch\n",
        "import torch.nn.functional as F\n",
        "from torchvision import datasets, transforms"
      ]
    },
    {
      "cell_type": "code",
      "source": [
        "transform = transforms.Compose([transforms.ToTensor(),\n",
        "                                transforms.Normalize((0.5,), (1.0,))])\n",
        "\n",
        "# Training and testing datasets.\n",
        "trainset = datasets.MNIST(\n",
        "    root='../data', train=True,\n",
        "    download=True, transform=transform)\n",
        "testset = datasets.MNIST(\n",
        "    root='../data', train=False,\n",
        "    download=True, transform=transform)"
      ],
      "metadata": {
        "id": "NSSr6MLxvMpa"
      },
      "execution_count": null,
      "outputs": []
    },
    {
      "cell_type": "code",
      "source": [
        "images_train = torch.stack([x for x, y in trainset])\n",
        "labels_train = torch.tensor([y for x, y in trainset])\n",
        "images_test = torch.stack([x for x, y in testset])\n",
        "labels_test = torch.tensor([y for x, y in testset])\n",
        "print('images_train:', images_train.shape)\n",
        "print('labels_train:', labels_train.shape)"
      ],
      "metadata": {
        "colab": {
          "base_uri": "https://localhost:8080/"
        },
        "id": "DfDfICBdvS5x",
        "outputId": "547c7fbc-4ec1-492a-ce12-b5acc102c56e"
      },
      "execution_count": null,
      "outputs": [
        {
          "output_type": "stream",
          "name": "stdout",
          "text": [
            "images_train: torch.Size([60000, 1, 28, 28])\n",
            "labels_train: torch.Size([60000])\n"
          ]
        }
      ]
    },
    {
      "cell_type": "code",
      "source": [
        "# Flatten last 3 dimensions to obtain a vector.\n",
        "x_train = torch.flatten(images_train, start_dim=-3)\n",
        "x_test = torch.flatten(images_test, start_dim=-3)\n",
        "print('x_train:', x_train.shape)\n",
        "print('x_test:', x_test.shape)"
      ],
      "metadata": {
        "colab": {
          "base_uri": "https://localhost:8080/"
        },
        "id": "TVG2CTnFvZbl",
        "outputId": "f9744722-ab97-473e-86dc-ef905fe6148c"
      },
      "execution_count": null,
      "outputs": [
        {
          "output_type": "stream",
          "name": "stdout",
          "text": [
            "x_train: torch.Size([60000, 784])\n",
            "x_test: torch.Size([10000, 784])\n"
          ]
        }
      ]
    },
    {
      "cell_type": "code",
      "source": [
        "# Obtain 2-norm distance between each pair of examples.\n",
        "\n",
        "# Use identity\n",
        "#   |u - v|^2 = u'u - 2 u'v + v'v\n",
        "# to avoid constructing [n_train, n_test, n_feat] array.\n",
        "\n",
        "# Compute dot product between each pair of (train, test) examples.\n",
        "dot = torch.einsum('id,jd->ij', x_train, x_test)\n",
        "print(dot.shape)"
      ],
      "metadata": {
        "colab": {
          "base_uri": "https://localhost:8080/"
        },
        "id": "JKWskQ3nvh_7",
        "outputId": "9bfe42a3-adad-456e-9112-0d0ddfad6c53"
      },
      "execution_count": null,
      "outputs": [
        {
          "output_type": "stream",
          "name": "stdout",
          "text": [
            "torch.Size([60000, 10000])\n"
          ]
        }
      ]
    },
    {
      "cell_type": "code",
      "source": [
        "# Add an extra dimension such that norms align with dot.\n",
        "norm_train = torch.sum(x_train ** 2, dim=1).unsqueeze(dim=1)\n",
        "norm_test = torch.sum(x_test ** 2, dim=1).unsqueeze(dim=0)\n",
        "print('norm_train:', norm_train.shape)\n",
        "print('norm_test:', norm_test.shape)"
      ],
      "metadata": {
        "colab": {
          "base_uri": "https://localhost:8080/"
        },
        "id": "DFdxC7J4wRIk",
        "outputId": "473be2e3-47c1-456f-ec67-8440bef02d14"
      },
      "execution_count": null,
      "outputs": [
        {
          "output_type": "stream",
          "name": "stdout",
          "text": [
            "norm_train: torch.Size([60000, 1])\n",
            "norm_test: torch.Size([1, 10000])\n"
          ]
        }
      ]
    },
    {
      "cell_type": "code",
      "source": [
        "dist_euc = torch.sqrt(norm_train + norm_test - 2 * dot)\n",
        "print('dist_euc:', dist_euc.shape)"
      ],
      "metadata": {
        "colab": {
          "base_uri": "https://localhost:8080/"
        },
        "id": "Eg0JDwj0wpaL",
        "outputId": "e1dd6656-64e5-4629-cbdd-784278d5b659"
      },
      "execution_count": null,
      "outputs": [
        {
          "output_type": "stream",
          "name": "stdout",
          "text": [
            "dist_euc: torch.Size([60000, 10000])\n"
          ]
        }
      ]
    },
    {
      "cell_type": "code",
      "source": [
        "# Find nearest neighbor for each testing example.\n",
        "index_nearest = torch.argmin(dist_euc, dim=0)\n",
        "# Take label of nearest training example as the prediction.\n",
        "pred = labels_train[index_nearest]\n",
        "\n",
        "# Check the accuracy of our predictions!\n",
        "torch.mean((pred == labels_test).float())"
      ],
      "metadata": {
        "colab": {
          "base_uri": "https://localhost:8080/"
        },
        "id": "XUvUx2WrxxEs",
        "outputId": "0a4f98eb-0a00-470b-c6fd-c9d31cb28066"
      },
      "execution_count": null,
      "outputs": [
        {
          "output_type": "execute_result",
          "data": {
            "text/plain": [
              "tensor(0.9691)"
            ]
          },
          "metadata": {},
          "execution_count": 55
        }
      ]
    },
    {
      "cell_type": "code",
      "source": [
        "# Try taking majority of k nearest neighbors.\n",
        "k = 3\n",
        "_, index_neighbors = torch.topk(dist_euc, k, largest=False, dim=0)\n",
        "print('index_neighbors:', index_neighbors.shape)\n",
        "\n",
        "# Take sum over one-hot representation to obtain per-class counts.\n",
        "y_train = F.one_hot(labels_train).float()\n",
        "print('y_train:', y_train.shape)\n",
        "y_neighbors = y_train[index_neighbors]\n",
        "print('y_neighbors:', y_neighbors.shape)"
      ],
      "metadata": {
        "colab": {
          "base_uri": "https://localhost:8080/"
        },
        "id": "3VgAxYVBzvLL",
        "outputId": "b7904f76-0209-4049-d1cc-f1431353c706"
      },
      "execution_count": null,
      "outputs": [
        {
          "output_type": "stream",
          "name": "stdout",
          "text": [
            "index_neighbors: torch.Size([3, 10000])\n",
            "y_train: torch.Size([60000, 10])\n",
            "y_neighbors: torch.Size([3, 10000, 10])\n"
          ]
        }
      ]
    },
    {
      "cell_type": "code",
      "source": [
        "freq_neighbors = torch.sum(y_neighbors, dim=0)\n",
        "print('freq_neighbors:', freq_neighbors.shape)"
      ],
      "metadata": {
        "colab": {
          "base_uri": "https://localhost:8080/"
        },
        "id": "amgjlCLG11iW",
        "outputId": "d7c5f613-b00a-4510-c6d3-51e750b61904"
      },
      "execution_count": null,
      "outputs": [
        {
          "output_type": "stream",
          "name": "stdout",
          "text": [
            "freq_neighbors: torch.Size([10000, 10])\n"
          ]
        }
      ]
    },
    {
      "cell_type": "code",
      "source": [
        "# Take the most frequent class amongst neighbors as the prediction.\n",
        "\n",
        "# May be necessary to break ties. Add 0.5^i for the i-th nearest neighbor.\n",
        "weight = 0.5 ** (1 + torch.arange(k))\n",
        "print('weight:', weight)\n",
        "\n",
        "tie_break = torch.tensordot(weight, y_neighbors, dims=1)\n",
        "torch.max(tie_break)  # Should be < 1 to avoid overwhelming frequency."
      ],
      "metadata": {
        "colab": {
          "base_uri": "https://localhost:8080/"
        },
        "id": "Fot-MJel2dxI",
        "outputId": "752a2a40-0161-4a6e-bfcf-bbda2137b111"
      },
      "execution_count": null,
      "outputs": [
        {
          "output_type": "stream",
          "name": "stdout",
          "text": [
            "weight: tensor([0.5000, 0.2500, 0.1250])\n"
          ]
        },
        {
          "output_type": "execute_result",
          "data": {
            "text/plain": [
              "tensor(0.8750)"
            ]
          },
          "metadata": {},
          "execution_count": 58
        }
      ]
    },
    {
      "cell_type": "code",
      "source": [
        "score = freq_neighbors + tie_break\n",
        "pred = torch.argmax(score, dim=1)\n",
        "\n",
        "# Check the accuracy of our predictions!\n",
        "torch.mean((pred == labels_test).float())"
      ],
      "metadata": {
        "colab": {
          "base_uri": "https://localhost:8080/"
        },
        "id": "JpKBDPusLlc1",
        "outputId": "45545d0c-b9d1-4fe1-f92f-d8a7e5139169"
      },
      "execution_count": null,
      "outputs": [
        {
          "output_type": "execute_result",
          "data": {
            "text/plain": [
              "tensor(0.9717)"
            ]
          },
          "metadata": {},
          "execution_count": 59
        }
      ]
    },
    {
      "cell_type": "code",
      "source": [
        "# Allow python to return memory to the system.\n",
        "del dot, dist_euc"
      ],
      "metadata": {
        "id": "75ta48iX67n3"
      },
      "execution_count": null,
      "outputs": []
    },
    {
      "cell_type": "code",
      "source": [
        "# Put it all together in a function.\n",
        "\n",
        "def predict_knn(x_train, y_train, x_test, k, chunk_size=1000):\n",
        "  # Use cat(map(f, split(x))) to avoid crashing kernel due to RAM usage.\n",
        "  # This is necessary to evaluate on the training set (60k examples).\n",
        "  # index_neighbors = find_neighbors(x_train, x_test, k)\n",
        "  index_neighbors = torch.cat([\n",
        "    find_neighbors(x_train, x, k)\n",
        "    for x in torch.split(x_test, chunk_size)\n",
        "  ], dim=1)\n",
        "  y_neighbors = y_train[index_neighbors]\n",
        "  freq_neighbors = torch.sum(y_neighbors, dim=0)\n",
        "  weight = 0.5 ** (1 + torch.arange(k))\n",
        "  tie_break = torch.tensordot(weight, y_neighbors, dims=1)\n",
        "  score = freq_neighbors + tie_break\n",
        "  return torch.argmax(score, dim=1)\n",
        "\n",
        "def find_neighbors(x_train, x_test, k):\n",
        "  dot = torch.einsum('id,jd->ij', x_train, x_test)\n",
        "  norm_train = torch.sum(x_train ** 2, dim=1).unsqueeze(dim=1)\n",
        "  norm_test = torch.sum(x_test ** 2, dim=1).unsqueeze(dim=0)\n",
        "  dist_euc = torch.sqrt(norm_train + norm_test - 2 * dot)\n",
        "  _, neighbors = torch.topk(dist_euc, k, largest=False, sorted=True, dim=0)\n",
        "  return neighbors"
      ],
      "metadata": {
        "id": "uFYPwKza2oU8"
      },
      "execution_count": null,
      "outputs": []
    },
    {
      "cell_type": "code",
      "source": [
        "# Evaluate nearest neighbor for varying k.\n",
        "\n",
        "for k in [1, 3, 10, 100]:\n",
        "  pred_test = predict_knn(x_train, y_train, x_test, k)\n",
        "  acc_test = torch.mean((pred_test == labels_test).float()).item()\n",
        "  print('k:', k)\n",
        "  print(f'test acc {acc_test:.2%}')\n",
        "  print()"
      ],
      "metadata": {
        "colab": {
          "base_uri": "https://localhost:8080/"
        },
        "id": "S29r9Hz86XBG",
        "outputId": "8b932b8d-750f-4bf7-af14-b4fd320675bd"
      },
      "execution_count": null,
      "outputs": [
        {
          "output_type": "stream",
          "name": "stdout",
          "text": [
            "k: 1\n",
            "test acc 96.91%\n",
            "\n",
            "k: 3\n",
            "test acc 97.17%\n",
            "\n",
            "k: 10\n",
            "test acc 96.83%\n",
            "\n",
            "k: 100\n",
            "test acc 94.44%\n",
            "\n"
          ]
        }
      ]
    },
    {
      "cell_type": "code",
      "source": [
        "# Do the same thing for the training set (slow!!)\n",
        "\n",
        "for k in [1, 3, 5, 100]:\n",
        "  pred_train = predict_knn(x_train, y_train, x_train, k)\n",
        "  acc_train = torch.mean((pred_train == labels_train).float()).item()\n",
        "  print('k:', k)\n",
        "  print(f'train acc {acc_train:.2%}')\n",
        "  print()"
      ],
      "metadata": {
        "colab": {
          "base_uri": "https://localhost:8080/"
        },
        "id": "VZl4ZuSGH_Lw",
        "outputId": "87addbd6-bfe3-4140-bbdc-51298ffbe7d9"
      },
      "execution_count": null,
      "outputs": [
        {
          "output_type": "stream",
          "name": "stdout",
          "text": [
            "k: 1\n",
            "train acc 99.57%\n",
            "\n",
            "k: 3\n",
            "train acc 98.66%\n",
            "\n",
            "k: 5\n",
            "train acc 98.22%\n",
            "\n",
            "k: 100\n",
            "train acc 94.18%\n",
            "\n"
          ]
        }
      ]
    },
    {
      "cell_type": "code",
      "source": [
        ""
      ],
      "metadata": {
        "id": "eOuLv3U48FIi"
      },
      "execution_count": null,
      "outputs": []
    }
  ]
}